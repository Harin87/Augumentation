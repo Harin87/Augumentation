{
  "nbformat": 4,
  "nbformat_minor": 0,
  "metadata": {
    "colab": {
      "provenance": [],
      "include_colab_link": true
    },
    "kernelspec": {
      "name": "python3",
      "display_name": "Python 3"
    },
    "language_info": {
      "name": "python"
    },
    "accelerator": "GPU",
    "gpuClass": "standard"
  },
  "cells": [
    {
      "cell_type": "markdown",
      "metadata": {
        "id": "view-in-github",
        "colab_type": "text"
      },
      "source": [
        "<a href=\"https://colab.research.google.com/github/Harin87/Augumentation/blob/main/Data%20Augumentation.ipynb\" target=\"_parent\"><img src=\"https://colab.research.google.com/assets/colab-badge.svg\" alt=\"Open In Colab\"/></a>"
      ]
    },
    {
      "cell_type": "code",
      "execution_count": 18,
      "metadata": {
        "id": "GwmOijszYvxO"
      },
      "outputs": [],
      "source": [
        "import matplotlib.pyplot as plt\n",
        "import numpy as np\n",
        "import cv2\n",
        "import os\n",
        "import PIL\n",
        "import tensorflow as tf\n",
        "\n",
        "from tensorflow import keras\n",
        "from tensorflow.keras import layers\n",
        "from tensorflow.keras.models import Sequential"
      ]
    },
    {
      "cell_type": "code",
      "source": [
        "\n",
        "dataset_url = \"https://drive.google.com/drive/folders/1KG4lQ8jDsH9Ihl9g7NDdUgSAk6KtEn8x?usp=drive_link\"\n",
        "data_dir = tf.keras.utils.get_file('Train mask', origin=dataset_url,  cache_dir='.', untar=True)"
      ],
      "metadata": {
        "colab": {
          "base_uri": "https://localhost:8080/"
        },
        "id": "7_hCKtieYw4i",
        "outputId": "3b3a9123-9292-48d6-ed48-ddbd541d2c26"
      },
      "execution_count": 45,
      "outputs": [
        {
          "output_type": "stream",
          "name": "stdout",
          "text": [
            "Downloading data from https://drive.google.com/drive/folders/1KG4lQ8jDsH9Ihl9g7NDdUgSAk6KtEn8x?usp=drive_link\n",
            "   8192/Unknown - 0s 0us/step"
          ]
        }
      ]
    },
    {
      "cell_type": "code",
      "source": [
        "data_dir\n"
      ],
      "metadata": {
        "colab": {
          "base_uri": "https://localhost:8080/",
          "height": 36
        },
        "id": "vuntieIxYzif",
        "outputId": "edfb42ad-5e19-4770-dd8c-daa676c80b4c"
      },
      "execution_count": 46,
      "outputs": [
        {
          "output_type": "execute_result",
          "data": {
            "text/plain": [
              "'./datasets/Train mask'"
            ],
            "application/vnd.google.colaboratory.intrinsic+json": {
              "type": "string"
            }
          },
          "metadata": {},
          "execution_count": 46
        }
      ]
    },
    {
      "cell_type": "code",
      "source": [
        "import pathlib\n",
        "data_dir = pathlib.Path(data_dir)\n",
        "data_dir"
      ],
      "metadata": {
        "colab": {
          "base_uri": "https://localhost:8080/"
        },
        "id": "UFi0Q-ayY1gc",
        "outputId": "703d6d10-7205-45d0-f5b2-6031350f60ab"
      },
      "execution_count": 47,
      "outputs": [
        {
          "output_type": "execute_result",
          "data": {
            "text/plain": [
              "PosixPath('datasets/Train mask')"
            ]
          },
          "metadata": {},
          "execution_count": 47
        }
      ]
    },
    {
      "cell_type": "code",
      "source": [
        "list(data_dir.glob('*/*.jpg'))[:5]"
      ],
      "metadata": {
        "colab": {
          "base_uri": "https://localhost:8080/"
        },
        "id": "60-jE2khY3Ry",
        "outputId": "b7f29c76-80d9-4af6-8c33-09007c04204b"
      },
      "execution_count": 48,
      "outputs": [
        {
          "output_type": "execute_result",
          "data": {
            "text/plain": [
              "[]"
            ]
          },
          "metadata": {},
          "execution_count": 48
        }
      ]
    },
    {
      "cell_type": "code",
      "source": [
        "image_count = len(list(data_dir.glob('*/*.jpg')))\n",
        "print(image_count)"
      ],
      "metadata": {
        "colab": {
          "base_uri": "https://localhost:8080/"
        },
        "id": "5ya7ID2rY5HR",
        "outputId": "2de0f224-0a50-4ff7-ab2a-607ed86d2321"
      },
      "execution_count": 49,
      "outputs": [
        {
          "output_type": "stream",
          "name": "stdout",
          "text": [
            "0\n"
          ]
        }
      ]
    },
    {
      "cell_type": "code",
      "source": [
        "roses = list(data_dir.glob('roses/*'))\n",
        "roses[:5]"
      ],
      "metadata": {
        "colab": {
          "base_uri": "https://localhost:8080/"
        },
        "id": "oXr4T8DRY67Q",
        "outputId": "233015f4-a93a-4ada-c01f-f894d04ad155"
      },
      "execution_count": 51,
      "outputs": [
        {
          "output_type": "execute_result",
          "data": {
            "text/plain": [
              "[]"
            ]
          },
          "metadata": {},
          "execution_count": 51
        }
      ]
    },
    {
      "cell_type": "code",
      "source": [
        "PIL.Image.open(str(Train_mask[1]))"
      ],
      "metadata": {
        "colab": {
          "base_uri": "https://localhost:8080/",
          "height": 106
        },
        "id": "9nzmHAo6Y8pb",
        "outputId": "9e7b3086-94f4-4b97-c985-4e0bd160447a"
      },
      "execution_count": 56,
      "outputs": [
        {
          "output_type": "error",
          "ename": "SyntaxError",
          "evalue": "invalid syntax. Perhaps you forgot a comma? (<ipython-input-56-0b962efc9dee>, line 1)",
          "traceback": [
            "\u001b[0;36m  File \u001b[0;32m\"<ipython-input-56-0b962efc9dee>\"\u001b[0;36m, line \u001b[0;32m1\u001b[0m\n\u001b[0;31m    PIL.Image.open(str(Train mask[1]))\u001b[0m\n\u001b[0m                       ^\u001b[0m\n\u001b[0;31mSyntaxError\u001b[0m\u001b[0;31m:\u001b[0m invalid syntax. Perhaps you forgot a comma?\n"
          ]
        }
      ]
    },
    {
      "cell_type": "code",
      "source": [
        "\n",
        "tulips = list(data_dir.glob('tulips/*'))\n",
        "PIL.Image.open(str(tulips[0]))"
      ],
      "metadata": {
        "colab": {
          "base_uri": "https://localhost:8080/",
          "height": 158
        },
        "id": "_pk-uzUWY-Cs",
        "outputId": "537bd656-f92c-43f1-9a92-2e3b2a82344e"
      },
      "execution_count": 57,
      "outputs": [
        {
          "output_type": "error",
          "ename": "IndexError",
          "evalue": "list index out of range",
          "traceback": [
            "\u001b[0;31m---------------------------------------------------------------------------\u001b[0m",
            "\u001b[0;31mIndexError\u001b[0m                                Traceback (most recent call last)",
            "\u001b[0;32m<ipython-input-57-d3f2b8fbeb15>\u001b[0m in \u001b[0;36m<cell line: 2>\u001b[0;34m()\u001b[0m\n\u001b[1;32m      1\u001b[0m \u001b[0mtulips\u001b[0m \u001b[0;34m=\u001b[0m \u001b[0mlist\u001b[0m\u001b[0;34m(\u001b[0m\u001b[0mdata_dir\u001b[0m\u001b[0;34m.\u001b[0m\u001b[0mglob\u001b[0m\u001b[0;34m(\u001b[0m\u001b[0;34m'tulips/*'\u001b[0m\u001b[0;34m)\u001b[0m\u001b[0;34m)\u001b[0m\u001b[0;34m\u001b[0m\u001b[0;34m\u001b[0m\u001b[0m\n\u001b[0;32m----> 2\u001b[0;31m \u001b[0mPIL\u001b[0m\u001b[0;34m.\u001b[0m\u001b[0mImage\u001b[0m\u001b[0;34m.\u001b[0m\u001b[0mopen\u001b[0m\u001b[0;34m(\u001b[0m\u001b[0mstr\u001b[0m\u001b[0;34m(\u001b[0m\u001b[0mtulips\u001b[0m\u001b[0;34m[\u001b[0m\u001b[0;36m0\u001b[0m\u001b[0;34m]\u001b[0m\u001b[0;34m)\u001b[0m\u001b[0;34m)\u001b[0m\u001b[0;34m\u001b[0m\u001b[0;34m\u001b[0m\u001b[0m\n\u001b[0m",
            "\u001b[0;31mIndexError\u001b[0m: list index out of range"
          ]
        }
      ]
    },
    {
      "cell_type": "code",
      "source": [
        "\n",
        "flowers_images_dict = {\n",
        "    'roses': list(data_dir.glob('roses/*')),\n",
        "    'daisy': list(data_dir.glob('daisy/*')),\n",
        "    'dandelion': list(data_dir.glob('dandelion/*')),\n",
        "    'sunflowers': list(data_dir.glob('sunflowers/*')),\n",
        "    'tulips': list(data_dir.glob('tulips/*')),\n",
        "}"
      ],
      "metadata": {
        "id": "4j2ReA0bY_hY"
      },
      "execution_count": 27,
      "outputs": []
    },
    {
      "cell_type": "code",
      "source": [
        "flowers_labels_dict = {\n",
        "    'roses': 0,\n",
        "    'daisy': 1,\n",
        "    'dandelion': 2,\n",
        "    'sunflowers': 3,\n",
        "    'tulips': 4,\n",
        "}"
      ],
      "metadata": {
        "id": "sbooOhiRZBKR"
      },
      "execution_count": 28,
      "outputs": []
    },
    {
      "cell_type": "code",
      "source": [
        "\n",
        "flowers_images_dict['roses'][:5]"
      ],
      "metadata": {
        "colab": {
          "base_uri": "https://localhost:8080/"
        },
        "id": "73OI-fj-ZCcQ",
        "outputId": "6bafb77c-752f-4a8d-e72e-b5fdaff28d7f"
      },
      "execution_count": 29,
      "outputs": [
        {
          "output_type": "execute_result",
          "data": {
            "text/plain": [
              "[PosixPath('datasets/flower_photos/roses/15186434972_e353da940a.jpg'),\n",
              " PosixPath('datasets/flower_photos/roses/14494590921_3bb1dc7b88_n.jpg'),\n",
              " PosixPath('datasets/flower_photos/roses/12240303_80d87f77a3_n.jpg'),\n",
              " PosixPath('datasets/flower_photos/roses/15419696882_9394168a10_n.jpg'),\n",
              " PosixPath('datasets/flower_photos/roses/8775267816_726ddc6d92_n.jpg')]"
            ]
          },
          "metadata": {},
          "execution_count": 29
        }
      ]
    },
    {
      "cell_type": "code",
      "source": [
        "\n",
        "str(flowers_images_dict['roses'][0])"
      ],
      "metadata": {
        "colab": {
          "base_uri": "https://localhost:8080/",
          "height": 36
        },
        "id": "QWhd3YzXZDvW",
        "outputId": "1d116ea4-a0da-4656-a297-9854e97a99ec"
      },
      "execution_count": 30,
      "outputs": [
        {
          "output_type": "execute_result",
          "data": {
            "text/plain": [
              "'datasets/flower_photos/roses/15186434972_e353da940a.jpg'"
            ],
            "application/vnd.google.colaboratory.intrinsic+json": {
              "type": "string"
            }
          },
          "metadata": {},
          "execution_count": 30
        }
      ]
    },
    {
      "cell_type": "code",
      "source": [
        "\n",
        "img = cv2.imread(str(flowers_images_dict['roses'][0]))"
      ],
      "metadata": {
        "id": "_TQocEaUZFNg"
      },
      "execution_count": 31,
      "outputs": []
    },
    {
      "cell_type": "code",
      "source": [
        "img.shape\n"
      ],
      "metadata": {
        "colab": {
          "base_uri": "https://localhost:8080/"
        },
        "id": "dF553OprZG-P",
        "outputId": "2fb44a67-8baf-4f13-9ecb-f93852751338"
      },
      "execution_count": 32,
      "outputs": [
        {
          "output_type": "execute_result",
          "data": {
            "text/plain": [
              "(333, 500, 3)"
            ]
          },
          "metadata": {},
          "execution_count": 32
        }
      ]
    },
    {
      "cell_type": "code",
      "source": [
        "cv2.resize(img,(180,180)).shape"
      ],
      "metadata": {
        "colab": {
          "base_uri": "https://localhost:8080/"
        },
        "id": "5jVvpg77ZJ5y",
        "outputId": "56d51f90-f1b0-43e7-8b53-a19f9c40d728"
      },
      "execution_count": 33,
      "outputs": [
        {
          "output_type": "execute_result",
          "data": {
            "text/plain": [
              "(180, 180, 3)"
            ]
          },
          "metadata": {},
          "execution_count": 33
        }
      ]
    },
    {
      "cell_type": "code",
      "source": [
        "X, y = [], []\n",
        "\n",
        "for flower_name, images in flowers_images_dict.items():\n",
        "    for image in images:\n",
        "        img = cv2.imread(str(image))\n",
        "        resized_img = cv2.resize(img,(180,180))\n",
        "        X.append(resized_img)\n",
        "        y.append(flowers_labels_dict[flower_name])"
      ],
      "metadata": {
        "id": "_wpDdvVDZKOA"
      },
      "execution_count": 34,
      "outputs": []
    },
    {
      "cell_type": "code",
      "source": [
        "X = np.array(X)\n",
        "y = np.array(y)"
      ],
      "metadata": {
        "id": "4jGaZuKzZMjF"
      },
      "execution_count": 35,
      "outputs": []
    },
    {
      "cell_type": "code",
      "source": [
        "\n",
        "from sklearn.model_selection import train_test_split\n",
        "X_train, X_test, y_train, y_test = train_test_split(X, y, random_state=0)"
      ],
      "metadata": {
        "id": "G2gXbuVyZN3V"
      },
      "execution_count": 36,
      "outputs": []
    },
    {
      "cell_type": "code",
      "source": [
        "X_train_scaled = X_train / 255\n",
        "X_test_scaled = X_test / 255"
      ],
      "metadata": {
        "id": "j-i60CHDZPZp"
      },
      "execution_count": 37,
      "outputs": []
    },
    {
      "cell_type": "code",
      "source": [
        "num_classes = 5\n",
        "\n",
        "model = Sequential([\n",
        "  layers.Conv2D(16, 3, padding='same', activation='relu'),\n",
        "  layers.MaxPooling2D(),\n",
        "  layers.Conv2D(32, 3, padding='same', activation='relu'),\n",
        "  layers.MaxPooling2D(),\n",
        "  layers.Conv2D(64, 3, padding='same', activation='relu'),\n",
        "  layers.MaxPooling2D(),\n",
        "  layers.Flatten(),\n",
        "  layers.Dense(128, activation='relu'),\n",
        "  layers.Dense(num_classes)\n",
        "])\n",
        "\n",
        "model.compile(optimizer='adam',\n",
        "              loss=tf.keras.losses.SparseCategoricalCrossentropy(from_logits=True),\n",
        "              metrics=['accuracy'])\n",
        "\n",
        "model.fit(X_train_scaled, y_train, epochs=10)"
      ],
      "metadata": {
        "colab": {
          "base_uri": "https://localhost:8080/"
        },
        "id": "K8_htRJiZRAH",
        "outputId": "3d4d1d6b-f63a-4af3-e106-04d64dd1846d"
      },
      "execution_count": 38,
      "outputs": [
        {
          "output_type": "stream",
          "name": "stdout",
          "text": [
            "Epoch 1/10\n",
            "86/86 [==============================] - 8s 20ms/step - loss: 1.2833 - accuracy: 0.4466\n",
            "Epoch 2/10\n",
            "86/86 [==============================] - 2s 20ms/step - loss: 0.9546 - accuracy: 0.6214\n",
            "Epoch 3/10\n",
            "86/86 [==============================] - 2s 23ms/step - loss: 0.7645 - accuracy: 0.7122\n",
            "Epoch 4/10\n",
            "86/86 [==============================] - 3s 33ms/step - loss: 0.5437 - accuracy: 0.7911\n",
            "Epoch 5/10\n",
            "86/86 [==============================] - 2s 25ms/step - loss: 0.3163 - accuracy: 0.8939\n",
            "Epoch 6/10\n",
            "86/86 [==============================] - 2s 25ms/step - loss: 0.1674 - accuracy: 0.9415\n",
            "Epoch 7/10\n",
            "86/86 [==============================] - 2s 24ms/step - loss: 0.0620 - accuracy: 0.9847\n",
            "Epoch 8/10\n",
            "86/86 [==============================] - 2s 21ms/step - loss: 0.0411 - accuracy: 0.9895\n",
            "Epoch 9/10\n",
            "86/86 [==============================] - 2s 20ms/step - loss: 0.0380 - accuracy: 0.9913\n",
            "Epoch 10/10\n",
            "86/86 [==============================] - 2s 24ms/step - loss: 0.0350 - accuracy: 0.9906\n"
          ]
        },
        {
          "output_type": "execute_result",
          "data": {
            "text/plain": [
              "<keras.src.callbacks.History at 0x7d8c589cdb10>"
            ]
          },
          "metadata": {},
          "execution_count": 38
        }
      ]
    },
    {
      "cell_type": "code",
      "source": [
        "\n",
        "model.evaluate(X_test_scaled,y_test)"
      ],
      "metadata": {
        "colab": {
          "base_uri": "https://localhost:8080/"
        },
        "id": "5oIIke19ZS-t",
        "outputId": "a0685630-0d3a-4fc1-a0ee-568bc1f875be"
      },
      "execution_count": 39,
      "outputs": [
        {
          "output_type": "stream",
          "name": "stdout",
          "text": [
            "29/29 [==============================] - 1s 22ms/step - loss: 1.9356 - accuracy: 0.6307\n"
          ]
        },
        {
          "output_type": "execute_result",
          "data": {
            "text/plain": [
              "[1.9355905055999756, 0.6307189464569092]"
            ]
          },
          "metadata": {},
          "execution_count": 39
        }
      ]
    },
    {
      "cell_type": "code",
      "source": [
        "predictions = model.predict(X_test_scaled)\n",
        "predictions"
      ],
      "metadata": {
        "colab": {
          "base_uri": "https://localhost:8080/"
        },
        "id": "W6JVXEFJZXfz",
        "outputId": "9c91c32a-9c26-49e0-cdaf-cc291a46e286"
      },
      "execution_count": 40,
      "outputs": [
        {
          "output_type": "stream",
          "name": "stdout",
          "text": [
            "29/29 [==============================] - 0s 9ms/step\n"
          ]
        },
        {
          "output_type": "execute_result",
          "data": {
            "text/plain": [
              "array([[ 1.318828  ,  4.8314548 ,  8.983255  , -7.6655526 ,  1.2801468 ],\n",
              "       [17.911957  , -9.900923  , -9.241495  , -0.93387735, 10.850643  ],\n",
              "       [ 3.7647753 ,  5.582379  ,  4.1559067 , -4.3618135 , -2.542954  ],\n",
              "       ...,\n",
              "       [ 1.790692  ,  0.7327155 , -1.6854217 ,  7.3261976 ,  1.8420252 ],\n",
              "       [ 2.3592598 , -1.0241531 ,  0.24704713,  1.1527652 , -0.04424654],\n",
              "       [ 2.8178744 , -6.1902404 ,  3.585151  , 18.666187  ,  4.770962  ]],\n",
              "      dtype=float32)"
            ]
          },
          "metadata": {},
          "execution_count": 40
        }
      ]
    },
    {
      "cell_type": "code",
      "source": [
        "score = tf.nn.softmax(predictions[0])"
      ],
      "metadata": {
        "id": "F5fAHxRYZY_B"
      },
      "execution_count": 41,
      "outputs": []
    },
    {
      "cell_type": "code",
      "source": [
        "data_augmentation = keras.Sequential(\n",
        "  [\n",
        "    layers.experimental.preprocessing.RandomFlip(\"horizontal\",\n",
        "                                                 input_shape=(180,\n",
        "                                                              180,\n",
        "                                                              3)),\n",
        "    layers.experimental.preprocessing.RandomRotation(0.1),\n",
        "    layers.experimental.preprocessing.RandomZoom(0.1),\n",
        "  ]\n",
        ")"
      ],
      "metadata": {
        "id": "obiWTqqnZdVI"
      },
      "execution_count": 42,
      "outputs": []
    },
    {
      "cell_type": "code",
      "source": [
        "num_classes = 5\n",
        "\n",
        "model = Sequential([\n",
        "  data_augmentation,\n",
        "  layers.Conv2D(16, 3, padding='same', activation='relu'),\n",
        "  layers.MaxPooling2D(),\n",
        "  layers.Conv2D(32, 3, padding='same', activation='relu'),\n",
        "  layers.MaxPooling2D(),\n",
        "  layers.Conv2D(64, 3, padding='same', activation='relu'),\n",
        "  layers.MaxPooling2D(),\n",
        "  layers.Dropout(0.2),\n",
        "  layers.Flatten(),\n",
        "  layers.Dense(128, activation='relu'),\n",
        "  layers.Dense(num_classes)\n",
        "])\n",
        "\n",
        "model.compile(optimizer='adam',\n",
        "              loss=tf.keras.losses.SparseCategoricalCrossentropy(from_logits=True),\n",
        "              metrics=['accuracy'])\n",
        "\n",
        "model.fit(X_train_scaled, y_train, epochs=10)"
      ],
      "metadata": {
        "colab": {
          "base_uri": "https://localhost:8080/"
        },
        "id": "HHO8wDPjZg0W",
        "outputId": "bbb1f655-f9b3-4612-90e9-d7217a2dd828"
      },
      "execution_count": 43,
      "outputs": [
        {
          "output_type": "stream",
          "name": "stdout",
          "text": [
            "Epoch 1/10\n",
            "86/86 [==============================] - 7s 29ms/step - loss: 1.4257 - accuracy: 0.3808\n",
            "Epoch 2/10\n",
            "86/86 [==============================] - 2s 27ms/step - loss: 1.0465 - accuracy: 0.5825\n",
            "Epoch 3/10\n",
            "86/86 [==============================] - 2s 27ms/step - loss: 0.9376 - accuracy: 0.6334\n",
            "Epoch 4/10\n",
            "86/86 [==============================] - 2s 27ms/step - loss: 0.8638 - accuracy: 0.6730\n",
            "Epoch 5/10\n",
            "86/86 [==============================] - 3s 30ms/step - loss: 0.8267 - accuracy: 0.6857\n",
            "Epoch 6/10\n",
            "86/86 [==============================] - 3s 31ms/step - loss: 0.7771 - accuracy: 0.7111\n",
            "Epoch 7/10\n",
            "86/86 [==============================] - 2s 27ms/step - loss: 0.7564 - accuracy: 0.7115\n",
            "Epoch 8/10\n",
            "86/86 [==============================] - 2s 28ms/step - loss: 0.7140 - accuracy: 0.7267\n",
            "Epoch 9/10\n",
            "86/86 [==============================] - 2s 27ms/step - loss: 0.6948 - accuracy: 0.7344\n",
            "Epoch 10/10\n",
            "86/86 [==============================] - 2s 27ms/step - loss: 0.6393 - accuracy: 0.7482\n"
          ]
        },
        {
          "output_type": "execute_result",
          "data": {
            "text/plain": [
              "<keras.src.callbacks.History at 0x7d8c407a5c60>"
            ]
          },
          "metadata": {},
          "execution_count": 43
        }
      ]
    },
    {
      "cell_type": "code",
      "source": [
        "model.evaluate(X_test_scaled,y_test)"
      ],
      "metadata": {
        "colab": {
          "base_uri": "https://localhost:8080/"
        },
        "id": "L0uMGvj_ZmXi",
        "outputId": "c8d708dd-f017-4871-f76b-0600fe7d7c1a"
      },
      "execution_count": 44,
      "outputs": [
        {
          "output_type": "stream",
          "name": "stdout",
          "text": [
            "29/29 [==============================] - 1s 15ms/step - loss: 0.8507 - accuracy: 0.6852\n"
          ]
        },
        {
          "output_type": "execute_result",
          "data": {
            "text/plain": [
              "[0.8507206439971924, 0.6851851940155029]"
            ]
          },
          "metadata": {},
          "execution_count": 44
        }
      ]
    },
    {
      "cell_type": "code",
      "source": [],
      "metadata": {
        "id": "vz8jES0GZmuX"
      },
      "execution_count": 44,
      "outputs": []
    }
  ]
}