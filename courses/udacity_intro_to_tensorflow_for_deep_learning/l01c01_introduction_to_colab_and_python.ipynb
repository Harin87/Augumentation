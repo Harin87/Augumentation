{
  "cells": [
    {
      "cell_type": "code",
      "source": [
        "import os\n",
        "\n",
        "# Define the input directory containing your images\n",
        "input_dir = '/content/Train mask'"
      ],
      "metadata": {
        "id": "hS3kjxx4Len9"
      },
      "execution_count": 5,
      "outputs": []
    },
    {
      "cell_type": "code",
      "source": [
        "# Get a list of all image filenames in the input directory\n",
        "image_files = [os.path.join(input_dir, f) for f in os.listdir(input_dir) if f.endswith('.jpg')]"
      ],
      "metadata": {
        "id": "MCUqC_KsOLAi"
      },
      "execution_count": 6,
      "outputs": []
    },
    {
      "cell_type": "code",
      "source": [
        "# Loop over each image file\n",
        "for image_file in image_files:\n",
        "    # Load the image\n",
        "    img = tf.keras.preprocessing.image.load_img(image_file)\n",
        "    x = tf.keras.preprocessing.image.img_to_array(img)\n",
        "    x = x.reshape((1,) + x.shape)"
      ],
      "metadata": {
        "id": "MtIdTe3sOUxy"
      },
      "execution_count": 7,
      "outputs": []
    },
    {
      "cell_type": "code",
      "source": [
        "# Generate augmented images\n",
        "augmented_images = []\n",
        "for batch in Trained_mask_mask.flow(x, batch_size=1):\n",
        "    augmented_images.append(batch[0])\n",
        "    if len(augmented_images) >= 10:  # Generate 10 augmented images for each input image\n",
        "        break\n",
        "        break\n"
      ],
      "metadata": {
        "colab": {
          "base_uri": "https://localhost:8080/",
          "height": 106
        },
        "id": "RUzdQWFrOYWR",
        "outputId": "f6fd4114-e1d0-41ea-bcb5-2ba853c58538"
      },
      "execution_count": 14,
      "outputs": [
        {
          "output_type": "error",
          "ename": "SyntaxError",
          "evalue": "unexpected character after line continuation character (<ipython-input-14-ba6984d20679>, line 3)",
          "traceback": [
            "\u001b[0;36m  File \u001b[0;32m\"<ipython-input-14-ba6984d20679>\"\u001b[0;36m, line \u001b[0;32m3\u001b[0m\n\u001b[0;31m    for batch in Trained\\ mask\\ mask.flow(x, batch_size=1):\u001b[0m\n\u001b[0m                         ^\u001b[0m\n\u001b[0;31mSyntaxError\u001b[0m\u001b[0;31m:\u001b[0m unexpected character after line continuation character\n"
          ]
        }
      ]
    },
    {
      "cell_type": "code",
      "source": [
        "# Save the augmented images\n",
        "    output_dir = '/content/Trained mask'\n",
        "    if not os.path.exists(output_dir):\n",
        "        os.makedirs(output_dir)"
      ],
      "metadata": {
        "colab": {
          "base_uri": "https://localhost:8080/",
          "height": 106
        },
        "id": "j2JMnZV1OcRS",
        "outputId": "aecfcb16-347a-4a85-8f57-b71fa1cc742d"
      },
      "execution_count": 15,
      "outputs": [
        {
          "output_type": "error",
          "ename": "IndentationError",
          "evalue": "unexpected indent (<ipython-input-15-ef52991ecdc3>, line 2)",
          "traceback": [
            "\u001b[0;36m  File \u001b[0;32m\"<ipython-input-15-ef52991ecdc3>\"\u001b[0;36m, line \u001b[0;32m2\u001b[0m\n\u001b[0;31m    output_dir = '/content/Trained mask'\u001b[0m\n\u001b[0m    ^\u001b[0m\n\u001b[0;31mIndentationError\u001b[0m\u001b[0;31m:\u001b[0m unexpected indent\n"
          ]
        }
      ]
    },
    {
      "cell_type": "code",
      "source": [
        "base_filename = os.path.splitext(os.path.basename(image_file))[0]\n",
        "    for i, augmented_image in enumerate(augmented_images):\n",
        "        output_filename = os.path.join(output_dir, f'{base_filename}augmented{i+1}.jpg')\n",
        "        tf.keras.preprocessing.image.save_img(output_filename, augmented_image)"
      ],
      "metadata": {
        "colab": {
          "base_uri": "https://localhost:8080/",
          "height": 106
        },
        "id": "1-Mt4EmZOfaL",
        "outputId": "d8bc33da-8437-46cd-fd65-2dfd4e3ce584"
      },
      "execution_count": 16,
      "outputs": [
        {
          "output_type": "error",
          "ename": "IndentationError",
          "evalue": "unexpected indent (<ipython-input-16-00b23c664a09>, line 2)",
          "traceback": [
            "\u001b[0;36m  File \u001b[0;32m\"<ipython-input-16-00b23c664a09>\"\u001b[0;36m, line \u001b[0;32m2\u001b[0m\n\u001b[0;31m    for i, augmented_image in enumerate(augmented_images):\u001b[0m\n\u001b[0m    ^\u001b[0m\n\u001b[0;31mIndentationError\u001b[0m\u001b[0;31m:\u001b[0m unexpected indent\n"
          ]
        }
      ]
    }
  ],
  "metadata": {
    "accelerator": "GPU",
    "colab": {
      "name": "l01c01_introduction_to_colab_and_python.ipynb",
      "provenance": []
    },
    "kernelspec": {
      "display_name": "Python 3",
      "name": "python3"
    }
  },
  "nbformat": 4,
  "nbformat_minor": 0
}